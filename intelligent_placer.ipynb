{
 "cells": [
  {
   "cell_type": "code",
   "execution_count": 1,
   "metadata": {
    "collapsed": true
   },
   "outputs": [],
   "source": [
    "from intelligent_placer_lib.loading import load_images\n",
    "from intelligent_placer_lib.preproccesing import get_contours\n",
    "from intelligent_placer_lib.spliter import split_contours\n",
    "from intelligent_placer_lib.placer import place_objects\n",
    "from intelligent_placer_lib.placer import distance\n",
    "\n",
    "from intelligent_placer_lib.geometry import shift_geom_to_the_beginning, create_polygons\n",
    "from shapely.geometry import Polygon\n",
    "from intelligent_placer_lib.manager import check_image\n",
    "import cv2\n",
    "from matplotlib import pyplot as plt\n",
    "import csv\n",
    "from sklearn.metrics import confusion_matrix"
   ]
  },
  {
   "cell_type": "code",
   "execution_count": 5,
   "metadata": {
    "collapsed": false
   },
   "outputs": [],
   "source": [
    "images, name = load_images(\"images/tests\")\n",
    "i=0\n",
    "j = 0\n",
    "count = 0\n",
    "train = [1, 1, 1, 0, 0]\n",
    "pred = [1, 0, 1, 1, 0]\n",
    "for im in images:\n",
    "    if name[i]!='19.jpg':\n",
    "        i+=1\n",
    "        continue\n",
    "    with open('data.csv', newline='', encoding='utf-8') as csvfile:\n",
    "        spamreader = csv.reader(csvfile, delimiter=',')\n",
    "        \n",
    "        for row in spamreader:\n",
    "            if name[i] == row[0]+'.jpg':\n",
    "                comment = row[2]\n",
    "                correct_answer = bool(int(row[1]))\n",
    "    \n",
    "    answer, poly, objects_in_poly = check_image(im)\n",
    "    pred.append(answer)\n",
    "    train.append(correct_answer)\n",
    "    count+=(correct_answer==answer)\n",
    "    fig, ax = plt.subplots(1, 2)\n",
    "    print(f'{name[i]}, Мой ответ: {answer} Правильный ответ: {correct_answer} Краткий коммент по тесту:{comment}')\n",
    "    plt.title(name[i])\n",
    "    ax[0].imshow(im)\n",
    "    i+=1\n",
    "    if  poly == None:\n",
    "        plt.show()\n",
    "        continue\n",
    "    ax[1].plot(*poly.exterior.xy)\n",
    "    for o in objects_in_poly:\n",
    "        ax[1].plot(*o.exterior.xy)\n",
    "    plt.show()\n",
    "    \n",
    "print(f'точность ответов: {100*count/len(images)}%')\n",
    "cm = confusion_matrix(train, pred)\n",
    "print(f'True Positive: {cm[0][0]} False Positive: {cm[0][1]}\\n False Negative: {cm[1][0]}, True Negative: {cm[1][1]}')"
   ]
  },
  {
   "cell_type": "code",
   "execution_count": null,
   "metadata": {
    "collapsed": false
   },
   "outputs": [],
   "source": [
    "#Тут я получил точность ответов 100 процентов, но это не всегда так, 14 тест где-то в 2 из 3 случаев выдает верный \n",
    "#результат Из-за случайности differential_evolution"
   ]
  }
 ],
 "metadata": {
  "kernelspec": {
   "display_name": "Python 3.10.8 64-bit",
   "language": "python",
   "name": "python3"
  },
  "language_info": {
   "codemirror_mode": {
    "name": "ipython",
    "version": 3
   },
   "file_extension": ".py",
   "mimetype": "text/x-python",
   "name": "python",
   "nbconvert_exporter": "python",
   "pygments_lexer": "ipython3",
   "version": "3.10.8"
  },
  "vscode": {
   "interpreter": {
    "hash": "0c3cd585cf3a38b644f243dec4a66d69d06a396bdc4735fdd8f6cde6cc5d38b0"
   }
  }
 },
 "nbformat": 4,
 "nbformat_minor": 0
}
