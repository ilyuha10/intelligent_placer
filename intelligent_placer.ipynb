{
 "cells": [
  {
   "cell_type": "code",
   "execution_count": 13,
   "metadata": {
    "collapsed": true
   },
   "outputs": [],
   "source": [
    "from intelligent_placer_lib.preproccesing import load_images\n",
    "from intelligent_placer_lib.preproccesing import get_contours\n",
    "from intelligent_placer_lib.placer import place_objects\n",
    "from intelligent_placer_lib.spliter import split_contours\n",
    "from matplotlib import pyplot as plt\n",
    "from shapely.geometry import Polygon"
   ]
  },
  {
   "cell_type": "code",
   "execution_count": 15,
   "metadata": {
    "collapsed": false
   },
   "outputs": [
    {
     "name": "stdout",
     "output_type": "stream",
     "text": [
      "here\n"
     ]
    },
    {
     "ename": "AttributeError",
     "evalue": "'bool' object has no attribute 'items'",
     "output_type": "error",
     "traceback": [
      "\u001B[1;31m---------------------------------------------------------------------------\u001B[0m",
      "\u001B[1;31mAttributeError\u001B[0m                            Traceback (most recent call last)",
      "Cell \u001B[1;32mIn [15], line 28\u001B[0m\n\u001B[0;32m     26\u001B[0m     plt\u001B[39m.\u001B[39mplot(\u001B[39m*\u001B[39mobj\u001B[39m.\u001B[39mexterior\u001B[39m.\u001B[39mxy)\n\u001B[0;32m     27\u001B[0m res \u001B[39m=\u001B[39m place_objects(pol, objs)\n\u001B[1;32m---> 28\u001B[0m plt\u001B[39m.\u001B[39;49mtitle(name[i\u001B[39m-\u001B[39;49m\u001B[39m1\u001B[39;49m], res)\n\u001B[0;32m     29\u001B[0m i\u001B[39m+\u001B[39m\u001B[39m=\u001B[39m\u001B[39m1\u001B[39m\n",
      "File \u001B[1;32mc:\\Users\\xilya\\AppData\\Local\\Programs\\Python\\Python310\\lib\\site-packages\\matplotlib\\pyplot.py:3012\u001B[0m, in \u001B[0;36mtitle\u001B[1;34m(label, fontdict, loc, pad, y, **kwargs)\u001B[0m\n\u001B[0;32m   3010\u001B[0m \u001B[39m@_copy_docstring_and_deprecators\u001B[39m(Axes\u001B[39m.\u001B[39mset_title)\n\u001B[0;32m   3011\u001B[0m \u001B[39mdef\u001B[39;00m \u001B[39mtitle\u001B[39m(label, fontdict\u001B[39m=\u001B[39m\u001B[39mNone\u001B[39;00m, loc\u001B[39m=\u001B[39m\u001B[39mNone\u001B[39;00m, pad\u001B[39m=\u001B[39m\u001B[39mNone\u001B[39;00m, \u001B[39m*\u001B[39m, y\u001B[39m=\u001B[39m\u001B[39mNone\u001B[39;00m, \u001B[39m*\u001B[39m\u001B[39m*\u001B[39mkwargs):\n\u001B[1;32m-> 3012\u001B[0m     \u001B[39mreturn\u001B[39;00m gca()\u001B[39m.\u001B[39mset_title(\n\u001B[0;32m   3013\u001B[0m         label, fontdict\u001B[39m=\u001B[39mfontdict, loc\u001B[39m=\u001B[39mloc, pad\u001B[39m=\u001B[39mpad, y\u001B[39m=\u001B[39my, \u001B[39m*\u001B[39m\u001B[39m*\u001B[39mkwargs)\n",
      "File \u001B[1;32mc:\\Users\\xilya\\AppData\\Local\\Programs\\Python\\Python310\\lib\\site-packages\\matplotlib\\axes\\_axes.py:168\u001B[0m, in \u001B[0;36mAxes.set_title\u001B[1;34m(self, label, fontdict, loc, pad, y, **kwargs)\u001B[0m\n\u001B[0;32m    166\u001B[0m title\u001B[39m.\u001B[39mupdate(default)\n\u001B[0;32m    167\u001B[0m \u001B[39mif\u001B[39;00m fontdict \u001B[39mis\u001B[39;00m \u001B[39mnot\u001B[39;00m \u001B[39mNone\u001B[39;00m:\n\u001B[1;32m--> 168\u001B[0m     title\u001B[39m.\u001B[39;49mupdate(fontdict)\n\u001B[0;32m    169\u001B[0m title\u001B[39m.\u001B[39m_internal_update(kwargs)\n\u001B[0;32m    170\u001B[0m \u001B[39mreturn\u001B[39;00m title\n",
      "File \u001B[1;32mc:\\Users\\xilya\\AppData\\Local\\Programs\\Python\\Python310\\lib\\site-packages\\matplotlib\\text.py:190\u001B[0m, in \u001B[0;36mText.update\u001B[1;34m(self, kwargs)\u001B[0m\n\u001B[0;32m    188\u001B[0m \u001B[39mdef\u001B[39;00m \u001B[39mupdate\u001B[39m(\u001B[39mself\u001B[39m, kwargs):\n\u001B[0;32m    189\u001B[0m     \u001B[39m# docstring inherited\u001B[39;00m\n\u001B[1;32m--> 190\u001B[0m     kwargs \u001B[39m=\u001B[39m cbook\u001B[39m.\u001B[39;49mnormalize_kwargs(kwargs, Text)\n\u001B[0;32m    191\u001B[0m     sentinel \u001B[39m=\u001B[39m \u001B[39mobject\u001B[39m()  \u001B[39m# bbox can be None, so use another sentinel.\u001B[39;00m\n\u001B[0;32m    192\u001B[0m     \u001B[39m# Update fontproperties first, as it has lowest priority.\u001B[39;00m\n",
      "File \u001B[1;32mc:\\Users\\xilya\\AppData\\Local\\Programs\\Python\\Python310\\lib\\site-packages\\matplotlib\\cbook\\__init__.py:1805\u001B[0m, in \u001B[0;36mnormalize_kwargs\u001B[1;34m(kw, alias_mapping)\u001B[0m\n\u001B[0;32m   1802\u001B[0m canonical_to_seen \u001B[39m=\u001B[39m {}\n\u001B[0;32m   1803\u001B[0m ret \u001B[39m=\u001B[39m {}  \u001B[39m# output dictionary\u001B[39;00m\n\u001B[1;32m-> 1805\u001B[0m \u001B[39mfor\u001B[39;00m k, v \u001B[39min\u001B[39;00m kw\u001B[39m.\u001B[39;49mitems():\n\u001B[0;32m   1806\u001B[0m     canonical \u001B[39m=\u001B[39m to_canonical\u001B[39m.\u001B[39mget(k, k)\n\u001B[0;32m   1807\u001B[0m     \u001B[39mif\u001B[39;00m canonical \u001B[39min\u001B[39;00m canonical_to_seen:\n",
      "\u001B[1;31mAttributeError\u001B[0m: 'bool' object has no attribute 'items'"
     ]
    },
    {
     "data": {
      "image/png": "[encoded data removed]",
      "text/plain": [
       "<Figure size 640x480 with 1 Axes>"
      ]
     },
     "metadata": {},
     "output_type": "display_data"
    }
   ],
   "source": [
    "#не самый приятный код хахпах, к финальной версии все будет ок)\n",
    "#polygon нужен для дальнейших операций, чтобы удобно было вырезать контуры обьектов из фигуры\n",
    "\n",
    "images, name = load_images(\"images/tests\")\n",
    "i=1\n",
    "for im in images:\n",
    "    plt.figure(i)\n",
    "    \n",
    "    \n",
    "    \n",
    "    cnts = get_contours(im)\n",
    "    poly, objects = split_contours(cnts)\n",
    "    \n",
    "\n",
    "    p1 = [tuple(p) for p in poly[:, 0]]\n",
    "    pol = Polygon(p1)\n",
    "    \n",
    "    plt.plot(*pol.exterior.xy)\n",
    "   \n",
    "    objs = []\n",
    "    for o in objects:\n",
    "        o1 = [tuple(p) for p in o[:, 0]]\n",
    "        obj = Polygon(o1)\n",
    "        objs.append(obj)\n",
    "  \n",
    "        plt.plot(*obj.exterior.xy)\n",
    "    res = place_objects(pol, objs)\n",
    "    plt.title(name[i-1] + res)\n",
    "    i+=1\n",
    "  "
   ]
  },
  {
   "cell_type": "code",
   "execution_count": null,
   "metadata": {
    "collapsed": false
   },
   "outputs": [],
   "source": []
  }
 ],
 "metadata": {
  "kernelspec": {
   "display_name": "Python 3.10.8 64-bit",
   "language": "python",
   "name": "python3"
  },
  "language_info": {
   "codemirror_mode": {
    "name": "ipython",
    "version": 3
   },
   "file_extension": ".py",
   "mimetype": "text/x-python",
   "name": "python",
   "nbconvert_exporter": "python",
   "pygments_lexer": "ipython3",
   "version": "3.10.8"
  },
  "vscode": {
   "interpreter": {
    "hash": "0c3cd585cf3a38b644f243dec4a66d69d06a396bdc4735fdd8f6cde6cc5d38b0"
   }
  }
 },
 "nbformat": 4,
 "nbformat_minor": 0
}
